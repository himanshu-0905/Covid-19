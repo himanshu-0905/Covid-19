{
  "nbformat": 4,
  "nbformat_minor": 0,
  "metadata": {
    "colab": {
      "provenance": [],
      "authorship_tag": "ABX9TyNMeobqj7ME3Cz5OCZs4VBR",
      "include_colab_link": true
    },
    "kernelspec": {
      "name": "python3",
      "display_name": "Python 3"
    },
    "language_info": {
      "name": "python"
    }
  },
  "cells": [
    {
      "cell_type": "markdown",
      "metadata": {
        "id": "view-in-github",
        "colab_type": "text"
      },
      "source": [
        "<a href=\"https://colab.research.google.com/github/himanshu-0905/Covid-19/blob/main/coreshiled.ipynb\" target=\"_parent\"><img src=\"https://colab.research.google.com/assets/colab-badge.svg\" alt=\"Open In Colab\"/></a>"
      ]
    },
    {
      "cell_type": "code",
      "execution_count": 1,
      "metadata": {
        "colab": {
          "base_uri": "https://localhost:8080/"
        },
        "id": "oBNmpdmqiVOp",
        "outputId": "646ccb97-06b6-4ede-8ee3-1d4e49c85c46"
      },
      "outputs": [
        {
          "output_type": "stream",
          "name": "stdout",
          "text": [
            "Valid Points Per Type: {'restaurant': 3, 'hotel': 3, 'cafe': 2}\n",
            "Average Rating Per Type: {'cafe': 4.6, 'hotel': 3.4, 'restaurant': 4.1000000000000005}\n",
            "Most Reviewed Location: {'id': 'loc_07', 'type': 'hotel', 'rating': 2.0, 'reviews': 900, 'latitude': 64.0522, 'longitude': -108.233}\n",
            "Locations with Incomplete Data: []\n"
          ]
        }
      ],
      "source": [
        "import json\n",
        "import pandas as pd\n",
        "from collections import defaultdict\n",
        "\n",
        "# Sample JSON data\n",
        "locations_json = [\n",
        "    {\"id\": \"loc_01\", \"latitude\": 37.7749, \"longitude\": -122.4194},\n",
        "    {\"id\": \"loc_04\", \"latitude\": 27.8749, \"longitude\": 122.4194},\n",
        "    {\"id\": \"loc_05\", \"latitude\": 57.2749, \"longitude\": -112.4344},\n",
        "    {\"id\": \"loc_06\", \"latitude\": 14.0522, \"longitude\": -119.2531},\n",
        "    {\"id\": \"loc_07\", \"latitude\": 64.0522, \"longitude\": -108.2330},\n",
        "    {\"id\": \"loc_02\", \"latitude\": 34.0522, \"longitude\": -118.2437},\n",
        "    {\"id\": \"loc_08\", \"latitude\": 24.0522, \"longitude\": -168.2197},\n",
        "    {\"id\": \"loc_03\", \"latitude\": 40.7128, \"longitude\": -74.0060}\n",
        "]\n",
        "\n",
        "metadata_json = [\n",
        "    {\"id\": \"loc_01\", \"type\": \"restaurant\", \"rating\": 4.5, \"reviews\": 120},\n",
        "    {\"id\": \"loc_04\", \"type\": \"restaurant\", \"rating\": 4.1, \"reviews\": 500},\n",
        "    {\"id\": \"loc_05\", \"type\": \"restaurant\", \"rating\": 3.7, \"reviews\": 110},\n",
        "    {\"id\": \"loc_02\", \"type\": \"hotel\", \"rating\": 4.2, \"reviews\": 200},\n",
        "    {\"id\": \"loc_06\", \"type\": \"hotel\", \"rating\": 4.0, \"reviews\": 700},\n",
        "    {\"id\": \"loc_07\", \"type\": \"hotel\", \"rating\": 2.0, \"reviews\": 900},\n",
        "    {\"id\": \"loc_03\", \"type\": \"cafe\", \"rating\": 4.7, \"reviews\": 150},\n",
        "    {\"id\": \"loc_08\", \"type\": \"cafe\", \"rating\": 4.5, \"reviews\": 750}\n",
        "]\n",
        "\n",
        "# Convert lists to DataFrames\n",
        "locations_df = pd.DataFrame(locations_json)\n",
        "metadata_df = pd.DataFrame(metadata_json)\n",
        "\n",
        "# Merge DataFrames on 'id'\n",
        "merged_df = pd.merge(metadata_df, locations_df, on=\"id\", how=\"left\")\n",
        "\n",
        "# Count valid points per type\n",
        "type_counts = merged_df[\"type\"].value_counts().to_dict()\n",
        "\n",
        "# Calculate average rating per type\n",
        "average_ratings = merged_df.groupby(\"type\")[\"rating\"].mean().to_dict()\n",
        "\n",
        "# Identify location with the highest number of reviews\n",
        "most_reviewed_location = merged_df.loc[merged_df[\"reviews\"].idxmax()].to_dict()\n",
        "\n",
        "# Identify locations with incomplete data\n",
        "incomplete_data = merged_df[merged_df.isnull().any(axis=1)].to_dict(orient=\"records\")\n",
        "\n",
        "# Print results\n",
        "print(\"Valid Points Per Type:\", type_counts)\n",
        "print(\"Average Rating Per Type:\", average_ratings)\n",
        "print(\"Most Reviewed Location:\", most_reviewed_location)\n",
        "print(\"Locations with Incomplete Data:\", incomplete_data)\n"
      ]
    }
  ]
}